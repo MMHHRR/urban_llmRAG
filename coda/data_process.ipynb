{
 "cells": [
  {
   "cell_type": "markdown",
   "metadata": {},
   "source": [
    "### 1. read image path and convert to csv"
   ]
  },
  {
   "cell_type": "code",
   "execution_count": null,
   "metadata": {},
   "outputs": [],
   "source": [
    "import os\n",
    "import csv\n",
    "\n",
    "def write_image_paths_to_csv(folder_path, csv_file_path):\n",
    "\n",
    "    file_names = []\n",
    "    file_paths = []\n",
    "    for root, dirs, files in os.walk(folder_path):\n",
    "        for file in files:\n",
    "            file_names.append(file)\n",
    "            relative_path = os.path.relpath(os.path.join(root, file), start=os.path.dirname(folder_path))\n",
    "            file_paths.append('./' + relative_path if relative_path != '.' else './')\n",
    "    \n",
    "    with open(csv_file_path, 'w', newline='') as csv_file:\n",
    "        writer = csv.writer(csv_file)\n",
    "        writer.writerow(['Image Name', 'Relative Path'])\n",
    "        for name, path in zip(file_names, file_paths):\n",
    "            writer.writerow([name, path])\n",
    "\n",
    "folder_path =  \"E:/.../test_img\" #input path\n",
    "csv_file_path = \"E:/.../img_name.csv\"  #output CSV path\n",
    "write_image_paths_to_csv(folder_path, csv_file_path)"
   ]
  },
  {
   "cell_type": "markdown",
   "metadata": {},
   "source": [
    "### 2. csv to json"
   ]
  },
  {
   "cell_type": "code",
   "execution_count": null,
   "metadata": {},
   "outputs": [],
   "source": [
    "import csv\n",
    "import json\n",
    "\n",
    "csv_file_path = \"E:/.../img_name.csv\"\n",
    "json_file_path = 'E:/.../metadata.json'\n",
    "\n",
    "data = []\n",
    "with open(csv_file_path, 'r') as csv_file:\n",
    "    reader = csv.DictReader(csv_file)\n",
    "    for row in reader:\n",
    "        data.append(row)\n",
    "\n",
    "with open(json_file_path, 'w') as json_file:\n",
    "    json.dump(data, json_file, indent=4)"
   ]
  },
  {
   "cell_type": "markdown",
   "metadata": {},
   "source": [
    "sample structure:\n",
    "\n",
    "[\n",
    "    {\n",
    "        \"Image Name\": \"1.274615_103.797243_50f561a0fdc9f065f0005614_Singapore.JPG\",\n",
    "        \"Relative Path\": \"./test_img\\\\1.274615_103.797243_50f561a0fdc9f065f0005614_Singapore.JPG\",\n",
    "        \"Caption\": \"['a car driving down a street next to a large bridge over a highway with a lot of trees']\",\n",
    "        \"livelier\": \"4.514021433\",\n",
    "        \"more beautiful\": \"5.15325436\",\n",
    "        \"more boring\": \"4.950422095\",\n",
    "        \"more depressing\": \"6.346440519\",\n",
    "        \"safer\": \"2.17046243\",\n",
    "        \"wealthier\": \"4.583960576\"\n",
    "    },...\n",
    "]"
   ]
  }
 ],
 "metadata": {
  "language_info": {
   "name": "python"
  }
 },
 "nbformat": 4,
 "nbformat_minor": 2
}
